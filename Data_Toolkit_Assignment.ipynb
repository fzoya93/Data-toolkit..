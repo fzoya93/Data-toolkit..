{
  "cells": [
    {
      "cell_type": "markdown",
      "metadata": {
        "id": "c1FcpdxsGfr5"
      },
      "source": [
        "## **Theoretical Assignment**\n"
      ]
    },
    {
      "cell_type": "markdown",
      "metadata": {
        "id": "KcGINLdNG4cC"
      },
      "source": [
        "**Ques 1)  What is NumPy, and why is it widely used in Python?**\n",
        "\n",
        "**Ans 1)** NumPy is a fundamental library in Python used for numerical and scientific computing. It provides powerful tools for working with large, multi-dimensional arrays and matrices, along with a wide range of mathematical functions to perform operations on these arrays efficiently. NumPy is widely used because it allows for faster processing of numerical data compared to standard Python lists, thanks to its implementation in C which speeds up computation."
      ]
    },
    {
      "cell_type": "markdown",
      "metadata": {
        "id": "e-WGJjiCHmDh"
      },
      "source": [
        "**Ques 2)  How does broadcasting work in NumPy?**\n",
        "\n",
        "**Ans 2)** Broadcasting in NumPy is a powerful feature that allows array operations between arrays of different shapes, without explicitly copying data. It makes array arithmetic more efficient and easier to write.\n",
        "\n",
        "**How Broadcasting Works:**\n",
        "\n",
        "When performing operations (like addition, subtraction, etc.) between two arrays of different shapes, NumPy tries to match their shapes by “stretching” the smaller one—without copying data—to make them compatible.\n",
        "\n"
      ]
    },
    {
      "cell_type": "markdown",
      "metadata": {
        "id": "3U5Y4GsEIPnL"
      },
      "source": [
        "**Ques 3)  What is a Pandas DataFrame?**\n",
        "\n",
        "**Ans 3)** A Pandas DataFrame is a two-dimensional, tabular data structure in Python provided by the Pandas library. It is similar to a spreadsheet or a SQL table, with labeled rows and columns. Each column in a DataFrame can hold data of different types (like integers, floats, strings), making it flexible and powerful for data manipulation and analysis.\n",
        "\n",
        "DataFrames are widely used in data science and analysis because they offer built-in functions for reading data from files (like CSV or Excel), filtering rows, summarizing data, handling missing values, and merging datasets."
      ]
    },
    {
      "cell_type": "markdown",
      "metadata": {
        "id": "QLWF1zc6ImK8"
      },
      "source": [
        "**Ques 4)  Explain the use of the groupby() method in Pandas?**\n",
        "\n",
        "**Ans 4)** The groupby() method in Pandas is used to split a DataFrame into groups based on one or more columns, apply a function (like sum, mean, count, etc.) to each group, and then combine the results into a new DataFrame. It is very useful for data analysis and aggregation tasks."
      ]
    },
    {
      "cell_type": "markdown",
      "metadata": {
        "id": "d9B8SVtmI4ne"
      },
      "source": [
        "**Ques 5)  Why is Seaborn preferred for statistical visualizations?**\n",
        "\n",
        "**Ans 5)** Seaborn is preferred for statistical visualizations in Python because it is a high-level data visualization library built on top of Matplotlib and tightly integrated with Pandas, making it easier to create informative and attractive statistical plots with minimal code."
      ]
    },
    {
      "cell_type": "markdown",
      "metadata": {
        "id": "Cc1otqAeJH_z"
      },
      "source": [
        "**Ques 6)**  What are the differences between NumPy arrays and Python lists?**\n",
        "\n",
        "**Ans 6)** **1. Data Type Consistency**\n",
        "\n",
        "**NumPy Array:** All elements must be of the same data type (e.g., all integers or all floats), which allows for faster and more efficient operations.\n",
        "\n",
        "**Python List:** Can contain mixed data types (e.g., integers, strings, floats in one list).\n",
        "\n",
        "**2. Performance and Speed**\n",
        "\n",
        "**NumPy Array:** Much faster and more memory-efficient because it uses optimized C code underneath and supports vectorized operations.\n",
        "\n",
        "**Python List:** Slower in numerical computations, especially with large datasets, as operations are done element by element using loops.\n",
        "\n",
        "\n",
        "\n"
      ]
    },
    {
      "cell_type": "markdown",
      "metadata": {
        "id": "N5slI-tvJyQa"
      },
      "source": [
        "**Ques 7)** What is a heatmap, and when should it be used?**\n",
        "\n",
        "**Ans 7)** A heatmap is a data visualization technique that uses color to represent values in a matrix or 2D table. It helps to quickly identify patterns, correlations, and variations in data, especially when dealing with large datasets.\n",
        "\n"
      ]
    },
    {
      "cell_type": "markdown",
      "metadata": {
        "id": "CpvnP1f5KFwt"
      },
      "source": [
        "**Ques 8)** What does the term “vectorized operation” mean in NumPy?\n",
        "\n",
        "**Ans 8)** In NumPy, a vectorized operation refers to performing operations on entire arrays (vectors, matrices, etc.) without using explicit loops. These operations are applied element-wise and are internally implemented in optimized C code, making them much faster and more efficient than regular Python loops."
      ]
    },
    {
      "cell_type": "markdown",
      "metadata": {
        "id": "AVph5AntKXS4"
      },
      "source": [
        "**Ques 9)**  How does Matplotlib differ from Plotly?**\n",
        "\n",
        "**Ans 9)** Matplotlib and Plotly are both powerful Python libraries used for data visualization, but they serve different purposes and offer different features. Matplotlib is primarily used for creating static, publication-quality plots such as line charts, bar graphs, and histograms. It offers fine-grained control over every element of the plot, making it ideal for academic and technical reporting. However, Matplotlib plots are mostly non-interactive and require more code for complex visualizations.\n",
        "\n",
        " On the other hand, Plotly is designed for creating interactive and web-friendly visualizations with minimal code. It allows users to zoom, pan, hover, and export charts directly from the browser. Plotly is especially useful for dashboards and presentations where user interaction is important. In summary, Matplotlib is best for static, detailed plotting, while Plotly excels at creating dynamic, interactive visuals.\n",
        "\n",
        "\n",
        "\n",
        "\n",
        "\n",
        "\n",
        "\n",
        "\n",
        "\n"
      ]
    },
    {
      "cell_type": "markdown",
      "metadata": {
        "id": "um6H98uAWeHF"
      },
      "source": [
        "**Ques 10)**  What is the significance of hierarchical indexing in Pandas?**\n",
        "\n",
        "**Ans 10)** **Significance of Hierarchical Indexing:**\n",
        "\n",
        "**1) Better Organization of Data:**\n",
        "\n",
        "Allows you to represent data in a nested or grouped format, like data categorized by year and then by month.\n",
        "\n",
        "**2) Efficient Data Selection and Slicing:**\n",
        "\n",
        "You can easily access subgroups of data using .loc[] or slicing across multiple levels of indexes.\n",
        "\n",
        "**3) Simplifies Grouped Data:**\n",
        "\n",
        "The result of groupby() operations often uses hierarchical indexing to display grouped summaries cleanly.\n",
        "\n",
        "**4) Flexible Reshaping:**\n",
        "\n",
        "Enables reshaping data using functions like stack(), unstack(), and pivot_table() without losing context."
      ]
    },
    {
      "cell_type": "markdown",
      "metadata": {
        "id": "nsoXjQOmXQ2H"
      },
      "source": [
        "**Ques 11)  What is the role of Seaborn’s pairplot() function?**\n",
        "\n",
        "**Ans 11)** The pairplot() function in Seaborn is used to create a grid of scatter plots and histograms that visualize the relationships between all pairs of numerical variables in a dataset. It is especially useful for exploratory data analysis (EDA) to understand how variables are related to each other.\n",
        "\n"
      ]
    },
    {
      "cell_type": "markdown",
      "metadata": {
        "id": "FXfCov7EXdQ5"
      },
      "source": [
        "**Ques 12)  What is the purpose of the describe() function in Pandas?**\n",
        "\n",
        "**Ans 12)** The describe() function in Pandas is used to generate summary statistics of a DataFrame or Series. It provides a quick overview of the central tendency, dispersion, and shape of the data distribution for numerical (and sometimes categorical) columns."
      ]
    },
    {
      "cell_type": "markdown",
      "metadata": {
        "id": "hx7hyC6BXqAv"
      },
      "source": [
        "**Ques 13)**  Why is handling missing data important in Pandas?**\n",
        "\n",
        "**Ans 13)** Handling missing data is crucial in Pandas because missing values can negatively impact the accuracy, reliability, and performance of data analysis and machine learning models. If not addressed properly, they may lead to biased results, errors, or misleading insights."
      ]
    },
    {
      "cell_type": "markdown",
      "metadata": {
        "id": "sTppQ9fxYDJ0"
      },
      "source": [
        "**Ques 14) What are the benefits of using Plotly for data visualization?**\n",
        "\n",
        "**Ans 14)** Benefits of Using Plotly for Data Visualization:**\n",
        "\n",
        "**Interactivity:**\n",
        "\n",
        "Charts are interactive by default—you can zoom, hover, pan, and export directly from the chart.\n",
        "\n",
        "Makes data exploration easier and more engaging.\n",
        "\n",
        "**Web Integration:**\n",
        "\n",
        "Plots are rendered in HTML and JavaScript, making them ideal for embedding in web apps, dashboards, or sharing online.\n",
        "\n",
        "**Variety of Charts:**\n",
        "\n",
        "Supports a wide range of visuals: line charts, bar charts, pie charts, heatmaps, 3D plots, maps, and more.\n",
        "\n",
        "Advanced visuals like scatter matrix, sunburst, and treemaps are also available."
      ]
    },
    {
      "cell_type": "markdown",
      "metadata": {
        "id": "9-H38cr1Y37X"
      },
      "source": [
        "**Ques 15)** How does NumPy handle multidimensional arrays?**\n",
        "\n",
        "**Ans 15)** NumPy handles multidimensional arrays using its core data structure called the ndarray (N-dimensional array). This allows you to store and manipulate data in 2D (matrices), 3D (tensors), or even higher dimensions in a highly efficient and flexible way.\n",
        "\n"
      ]
    },
    {
      "cell_type": "markdown",
      "metadata": {
        "id": "B78C_wF1ZPPt"
      },
      "source": [
        "**Ques 16)  What is the role of Bokeh in data visualization**?\n",
        "\n",
        "**Ans 16)** Bokeh is a powerful Python library for creating interactive and web-ready visualizations. Its main role in data visualization is to enable the creation of rich, interactive plots and dashboards that can be easily embedded in web applications or viewed in browsers. Bokeh is especially useful for creating visualizations that allow real-time updates, tooltips, zooming, panning, and other interactive features."
      ]
    },
    {
      "cell_type": "markdown",
      "metadata": {
        "id": "iOXhW6OJZhFv"
      },
      "source": [
        "**Ques 17)  Explain the difference between apply() and map() in Pandas.**\n",
        "\n",
        "**Ans 17)**map()**\n",
        "\n",
        "**Used with**: Series (single column only)\n",
        "\n",
        "**Purpose:** Applies a function element-wise to each value in the Series.\n",
        "\n",
        "**Function types supported:** Python functions, lambda functions, dictionaries, or Series.\n",
        "\n",
        "**Returns:** A new Series.\n",
        "\n",
        "**Apply()**\n",
        "\n",
        "**Used with:** Both Series and DataFrames\n",
        "\n",
        "**Purpose:** Applies a function along an axis of the DataFrame or to each element in a Series.\n",
        "\n",
        "**Function types supported:** More flexible – works with functions on rows or columns.\n",
        "\n",
        "**Returns:** Depends on the function — could be Series, DataFrame, or scalar."
      ]
    },
    {
      "cell_type": "markdown",
      "metadata": {
        "id": "9a0W-6fzaYkr"
      },
      "source": [
        "**Ques 18) What are some advanced features of NumPy?**\n",
        "\n",
        "**Ans 18)** NumPy is a powerful library for numerical computing in Python. Beyond its basic array operations, NumPy offers several advanced features that are essential for high-performance scientific computing and data analysis.\n",
        "\n",
        "**1. Broadcasting**\n",
        "Allows arithmetic operations between arrays of different shapes without explicitly reshaping them.\n",
        "\n",
        "**2. Vectorization**\n",
        "Eliminates the need for slow Python loops by applying operations directly on arrays.\n",
        "Leads to concise and faster code.\n",
        "\n",
        "**3. Advanced Indexing and Slicing**\n",
        "Supports boolean indexing, integer indexing, and fancy indexing.\n",
        "\n",
        "\n",
        "\n"
      ]
    },
    {
      "cell_type": "markdown",
      "metadata": {
        "id": "91eGVZgJJxQv"
      },
      "source": [
        "**Ques 19) How does Pandas simplify time series analysis?**\n",
        "\n",
        "**Ans 19)** Pandas simplifies time series analysis by providing built-in support for date and time data, making it easy to work with temporal datasets. It allows users to convert strings to datetime objects, set datetime indexes, and perform time-based indexing and slicing with ease. Powerful features like resampling help in changing the frequency of data (e.g., from daily to monthly), while rolling and expanding windows enable moving average and trend analysis. Pandas also supports time zone handling, date shifting, and lag/lead operations, which are essential for forecasting and modeling."
      ]
    },
    {
      "cell_type": "markdown",
      "metadata": {
        "id": "S8ix5cYVKD5K"
      },
      "source": [
        "**Ques 20)  What is the role of a pivot table in Pandas?**\n",
        "\n",
        "**Ans 20)** The role of a pivot table in Pandas is to summarize, group, and reorganize data for better analysis and reporting. It allows you to transform large datasets into a more readable and meaningful format by aggregating values based on one or more keys (like rows and columns). Using the pivot_table() function, you can perform operations such as sum, mean, count, or custom aggregations on grouped data."
      ]
    },
    {
      "cell_type": "markdown",
      "metadata": {
        "id": "4xCpy4c4KZX-"
      },
      "source": [
        "**Ques 21)** Why is NumPy’s array slicing faster than Python’s list slicing?**\n",
        "\n",
        "**Ans 21)** NumPy’s array slicing is faster than Python’s list slicing because of the following key reasons:\n",
        "\n",
        "**1. Contiguous Memory Allocation**\n",
        "\n",
        "NumPy arrays are stored in contiguous blocks of memory, meaning elements are stored next to each other.\n",
        "\n",
        "This allows NumPy to use highly efficient, low-level memory access and vectorized operations written in C.\n",
        "\n",
        "**2. Fixed Data Type**\n",
        "\n",
        "NumPy arrays hold elements of the same data type, allowing optimized, low-level computation.\n",
        "\n",
        "Python lists are heterogeneous (can hold multiple data types), so slicing involves extra overhead for type checking and reference handling.\n",
        "\n",
        "**3. View vs. Copy**\n",
        "\n",
        "Slicing a NumPy array usually returns a view, not a copy, meaning no data is duplicated — just a new pointer to the same memory.\n",
        "\n",
        "Python list slicing always creates a new copy of the sliced list, which takes more time and memory.\n",
        "\n"
      ]
    },
    {
      "cell_type": "markdown",
      "metadata": {
        "id": "L8oFUMqQLCup"
      },
      "source": [
        "**Ques 22) What are some common use cases for Seaborn?**\n",
        "\n",
        "**Ans 22)** Seaborn is a powerful data visualization library built on top of Matplotlib, and it is specifically designed for statistical data visualization. It provides a high-level interface for creating attractive and informative graphics.\n",
        "\n",
        "**1. Exploratory Data Analysis (EDA)**\n",
        "\n",
        "Seaborn is widely used in EDA to quickly visualize relationships, distributions, and patterns in data.\n",
        "\n",
        "It helps in spotting outliers, trends, and correlations before modeling.\n",
        "\n",
        "**2. Visualizing Distributions**\n",
        "\n",
        "Functions like distplot() (deprecated), histplot(), kdeplot(), and boxplot() are used to analyze the distribution of variables.\n",
        "\n",
        "Example: understanding income distribution or exam scores.\n",
        "\n",
        "**3. Correlation and Heatmaps**\n",
        "\n",
        "Use heatmap() to visualize the correlation matrix or other 2D data.\n",
        "\n",
        "**It’s useful for feature selection in machine learning.**\n",
        "\n",
        "python\n",
        "\n",
        "Copy\n",
        "\n",
        "Edit\n",
        "\n",
        "sns.heatmap(df.corr(), annot=True)\n",
        "\n"
      ]
    },
    {
      "cell_type": "code",
      "execution_count": null,
      "metadata": {
        "id": "rLs8pda-Lwcp"
      },
      "outputs": [],
      "source": []
    },
    {
      "cell_type": "code",
      "execution_count": null,
      "metadata": {
        "id": "rQf9fvdMLwiu"
      },
      "outputs": [],
      "source": []
    },
    {
      "cell_type": "markdown",
      "metadata": {
        "id": "kLcW4fHALx8q"
      },
      "source": [
        "# **Practical Questions**"
      ]
    },
    {
      "cell_type": "code",
      "execution_count": null,
      "metadata": {
        "colab": {
          "base_uri": "https://localhost:8080/"
        },
        "id": "ASQjexOfL7vo",
        "outputId": "e3799ec7-9c2d-4574-f679-d108d3d6be7c"
      },
      "outputs": [
        {
          "name": "stdout",
          "output_type": "stream",
          "text": [
            "2D Array:\n",
            " [[1 2 3]\n",
            " [4 5 6]\n",
            " [7 8 9]]\n",
            "Sum of each row: [ 6 15 24]\n"
          ]
        }
      ],
      "source": [
        " #1) How do you create a 2D NumPy array and calculate the sum of each row?\n",
        "\n",
        " import numpy as np\n",
        "\n",
        "array_2d = np.array([[1, 2, 3],\n",
        "                     [4, 5, 6],\n",
        "                     [7, 8, 9]])\n",
        "\n",
        "row_sums = np.sum(array_2d, axis=1)\n",
        "\n",
        "print(\"2D Array:\\n\", array_2d)\n",
        "print(\"Sum of each row:\", row_sums)\n"
      ]
    },
    {
      "cell_type": "code",
      "execution_count": null,
      "metadata": {
        "colab": {
          "base_uri": "https://localhost:8080/"
        },
        "id": "8YMALXVBMc0t",
        "outputId": "630fd5fc-fec8-4a7a-c748-1dd82c98e84a"
      },
      "outputs": [
        {
          "name": "stdout",
          "output_type": "stream",
          "text": [
            "Mean Salary: 65000.0\n"
          ]
        }
      ],
      "source": [
        " #2)  Write a Pandas script to find the mean of a specific column in a DataFrame.\n",
        "\n",
        " import pandas as pd\n",
        "\n",
        "data = {'Name': ['Alice', 'Bob', 'Charlie', 'David'],\n",
        "        'Age': [25, 30, 35, 40],\n",
        "        'Salary': [50000, 60000, 70000, 80000]}\n",
        "\n",
        "df = pd.DataFrame(data)\n",
        "\n",
        "mean_salary = df['Salary'].mean()\n",
        "\n",
        "print(\"Mean Salary:\", mean_salary)\n"
      ]
    },
    {
      "cell_type": "code",
      "execution_count": null,
      "metadata": {
        "colab": {
          "base_uri": "https://localhost:8080/",
          "height": 472
        },
        "id": "AH_Ske_0M3r4",
        "outputId": "2aa360a3-f822-437f-9f96-1f822355b766"
      },
      "outputs": [
        {
          "data": {
            "image/png": "[encoded data removed]",
            "text/plain": [
              "<Figure size 640x480 with 1 Axes>"
            ]
          },
          "metadata": {},
          "output_type": "display_data"
        }
      ],
      "source": [
        " #3)  Create a scatter plot using Matplotlib.\n",
        "\n",
        " import matplotlib.pyplot as plt\n",
        "\n",
        "x = [1, 2, 3, 4, 5]\n",
        "y = [2, 4, 6, 8, 10]\n",
        "\n",
        "plt.scatter(x, y)\n",
        "plt.xlabel('X-axis')\n",
        "plt.ylabel('Y-axis')\n",
        "plt.title('Scatter Plot')\n",
        "plt.show()"
      ]
    },
    {
      "cell_type": "code",
      "execution_count": null,
      "metadata": {
        "colab": {
          "base_uri": "https://localhost:8080/",
          "height": 452
        },
        "id": "yRzxbPnSNLWa",
        "outputId": "6a9eb1cf-ad98-4382-aaab-8ba920cffadf"
      },
      "outputs": [
        {
          "data": {
            "image/png": "[encoded data removed]",
            "text/plain": [
              "<Figure size 640x480 with 2 Axes>"
            ]
          },
          "metadata": {},
          "output_type": "display_data"
        }
      ],
      "source": [
        "#4)  How do you calculate the correlation matrix using Seaborn and visualize it with a heatmap.\n",
        "\n",
        "import pandas as pd\n",
        "import seaborn as sns\n",
        "import matplotlib.pyplot as plt\n",
        "\n",
        "data = {\n",
        "    'Math': [80, 85, 78, 92, 88],\n",
        "    'Science': [75, 89, 84, 91, 85],\n",
        "    'English': [70, 78, 82, 85, 80]\n",
        "}\n",
        "\n",
        "df = pd.DataFrame(data)\n",
        "\n",
        "corr_matrix = df.corr()\n",
        "\n",
        "sns.heatmap(corr_matrix, annot=True, cmap='coolwarm', fmt=\".2f\")\n",
        "\n",
        "plt.title(\"Correlation Matrix Heatmap\")\n",
        "\n",
        "# Show plot\n",
        "plt.show()\n",
        "\n"
      ]
    },
    {
      "cell_type": "code",
      "execution_count": 3,
      "metadata": {
        "colab": {
          "base_uri": "https://localhost:8080/",
          "height": 542
        },
        "id": "EMiV-bEwNukP",
        "outputId": "c156c926-5766-41bb-a1bb-be9d0256332f"
      },
      "outputs": [
        {
          "output_type": "display_data",
          "data": {
            "text/html": [
              "<html>\n",
              "<head><meta charset=\"utf-8\" /></head>\n",
              "<body>\n",
              "    <div>            <script src=\"https://cdnjs.cloudflare.com/ajax/libs/mathjax/2.7.5/MathJax.js?config=TeX-AMS-MML_SVG\"></script><script type=\"text/javascript\">if (window.MathJax && window.MathJax.Hub && window.MathJax.Hub.Config) {window.MathJax.Hub.Config({SVG: {font: \"STIX-Web\"}});}</script>                <script type=\"text/javascript\">window.PlotlyConfig = {MathJaxConfig: 'local'};</script>\n",
              "        <script charset=\"utf-8\" src=\"https://cdn.plot.ly/plotly-2.35.2.min.js\"></script>                <div id=\"1f92edfb-df0a-48e0-937a-a54e590054e6\" class=\"plotly-graph-div\" style=\"height:525px; width:100%;\"></div>            <script type=\"text/javascript\">                                    window.PLOTLYENV=window.PLOTLYENV || {};                                    if (document.getElementById(\"1f92edfb-df0a-48e0-937a-a54e590054e6\")) {                    Plotly.newPlot(                        \"1f92edfb-df0a-48e0-937a-a54e590054e6\",                        [{\"alignmentgroup\":\"True\",\"hovertemplate\":\"Category=%{x}\\u003cbr\\u003eValues=%{y}\\u003cextra\\u003e\\u003c\\u002fextra\\u003e\",\"legendgroup\":\"A\",\"marker\":{\"color\":\"#636efa\",\"pattern\":{\"shape\":\"\"}},\"name\":\"A\",\"offsetgroup\":\"A\",\"orientation\":\"v\",\"showlegend\":true,\"textposition\":\"auto\",\"x\":[\"A\"],\"xaxis\":\"x\",\"y\":[23],\"yaxis\":\"y\",\"type\":\"bar\"},{\"alignmentgroup\":\"True\",\"hovertemplate\":\"Category=%{x}\\u003cbr\\u003eValues=%{y}\\u003cextra\\u003e\\u003c\\u002fextra\\u003e\",\"legendgroup\":\"B\",\"marker\":{\"color\":\"#EF553B\",\"pattern\":{\"shape\":\"\"}},\"name\":\"B\",\"offsetgroup\":\"B\",\"orientation\":\"v\",\"showlegend\":true,\"textposition\":\"auto\",\"x\":[\"B\"],\"xaxis\":\"x\",\"y\":[17],\"yaxis\":\"y\",\"type\":\"bar\"},{\"alignmentgroup\":\"True\",\"hovertemplate\":\"Category=%{x}\\u003cbr\\u003eValues=%{y}\\u003cextra\\u003e\\u003c\\u002fextra\\u003e\",\"legendgroup\":\"C\",\"marker\":{\"color\":\"#00cc96\",\"pattern\":{\"shape\":\"\"}},\"name\":\"C\",\"offsetgroup\":\"C\",\"orientation\":\"v\",\"showlegend\":true,\"textposition\":\"auto\",\"x\":[\"C\"],\"xaxis\":\"x\",\"y\":[35],\"yaxis\":\"y\",\"type\":\"bar\"},{\"alignmentgroup\":\"True\",\"hovertemplate\":\"Category=%{x}\\u003cbr\\u003eValues=%{y}\\u003cextra\\u003e\\u003c\\u002fextra\\u003e\",\"legendgroup\":\"D\",\"marker\":{\"color\":\"#ab63fa\",\"pattern\":{\"shape\":\"\"}},\"name\":\"D\",\"offsetgroup\":\"D\",\"orientation\":\"v\",\"showlegend\":true,\"textposition\":\"auto\",\"x\":[\"D\"],\"xaxis\":\"x\",\"y\":[29],\"yaxis\":\"y\",\"type\":\"bar\"}],                        {\"template\":{\"data\":{\"histogram2dcontour\":[{\"type\":\"histogram2dcontour\",\"colorbar\":{\"outlinewidth\":0,\"ticks\":\"\"},\"colorscale\":[[0.0,\"#0d0887\"],[0.1111111111111111,\"#46039f\"],[0.2222222222222222,\"#7201a8\"],[0.3333333333333333,\"#9c179e\"],[0.4444444444444444,\"#bd3786\"],[0.5555555555555556,\"#d8576b\"],[0.6666666666666666,\"#ed7953\"],[0.7777777777777778,\"#fb9f3a\"],[0.8888888888888888,\"#fdca26\"],[1.0,\"#f0f921\"]]}],\"choropleth\":[{\"type\":\"choropleth\",\"colorbar\":{\"outlinewidth\":0,\"ticks\":\"\"}}],\"histogram2d\":[{\"type\":\"histogram2d\",\"colorbar\":{\"outlinewidth\":0,\"ticks\":\"\"},\"colorscale\":[[0.0,\"#0d0887\"],[0.1111111111111111,\"#46039f\"],[0.2222222222222222,\"#7201a8\"],[0.3333333333333333,\"#9c179e\"],[0.4444444444444444,\"#bd3786\"],[0.5555555555555556,\"#d8576b\"],[0.6666666666666666,\"#ed7953\"],[0.7777777777777778,\"#fb9f3a\"],[0.8888888888888888,\"#fdca26\"],[1.0,\"#f0f921\"]]}],\"heatmap\":[{\"type\":\"heatmap\",\"colorbar\":{\"outlinewidth\":0,\"ticks\":\"\"},\"colorscale\":[[0.0,\"#0d0887\"],[0.1111111111111111,\"#46039f\"],[0.2222222222222222,\"#7201a8\"],[0.3333333333333333,\"#9c179e\"],[0.4444444444444444,\"#bd3786\"],[0.5555555555555556,\"#d8576b\"],[0.6666666666666666,\"#ed7953\"],[0.7777777777777778,\"#fb9f3a\"],[0.8888888888888888,\"#fdca26\"],[1.0,\"#f0f921\"]]}],\"heatmapgl\":[{\"type\":\"heatmapgl\",\"colorbar\":{\"outlinewidth\":0,\"ticks\":\"\"},\"colorscale\":[[0.0,\"#0d0887\"],[0.1111111111111111,\"#46039f\"],[0.2222222222222222,\"#7201a8\"],[0.3333333333333333,\"#9c179e\"],[0.4444444444444444,\"#bd3786\"],[0.5555555555555556,\"#d8576b\"],[0.6666666666666666,\"#ed7953\"],[0.7777777777777778,\"#fb9f3a\"],[0.8888888888888888,\"#fdca26\"],[1.0,\"#f0f921\"]]}],\"contourcarpet\":[{\"type\":\"contourcarpet\",\"colorbar\":{\"outlinewidth\":0,\"ticks\":\"\"}}],\"contour\":[{\"type\":\"contour\",\"colorbar\":{\"outlinewidth\":0,\"ticks\":\"\"},\"colorscale\":[[0.0,\"#0d0887\"],[0.1111111111111111,\"#46039f\"],[0.2222222222222222,\"#7201a8\"],[0.3333333333333333,\"#9c179e\"],[0.4444444444444444,\"#bd3786\"],[0.5555555555555556,\"#d8576b\"],[0.6666666666666666,\"#ed7953\"],[0.7777777777777778,\"#fb9f3a\"],[0.8888888888888888,\"#fdca26\"],[1.0,\"#f0f921\"]]}],\"surface\":[{\"type\":\"surface\",\"colorbar\":{\"outlinewidth\":0,\"ticks\":\"\"},\"colorscale\":[[0.0,\"#0d0887\"],[0.1111111111111111,\"#46039f\"],[0.2222222222222222,\"#7201a8\"],[0.3333333333333333,\"#9c179e\"],[0.4444444444444444,\"#bd3786\"],[0.5555555555555556,\"#d8576b\"],[0.6666666666666666,\"#ed7953\"],[0.7777777777777778,\"#fb9f3a\"],[0.8888888888888888,\"#fdca26\"],[1.0,\"#f0f921\"]]}],\"mesh3d\":[{\"type\":\"mesh3d\",\"colorbar\":{\"outlinewidth\":0,\"ticks\":\"\"}}],\"scatter\":[{\"fillpattern\":{\"fillmode\":\"overlay\",\"size\":10,\"solidity\":0.2},\"type\":\"scatter\"}],\"parcoords\":[{\"type\":\"parcoords\",\"line\":{\"colorbar\":{\"outlinewidth\":0,\"ticks\":\"\"}}}],\"scatterpolargl\":[{\"type\":\"scatterpolargl\",\"marker\":{\"colorbar\":{\"outlinewidth\":0,\"ticks\":\"\"}}}],\"bar\":[{\"error_x\":{\"color\":\"#2a3f5f\"},\"error_y\":{\"color\":\"#2a3f5f\"},\"marker\":{\"line\":{\"color\":\"#E5ECF6\",\"width\":0.5},\"pattern\":{\"fillmode\":\"overlay\",\"size\":10,\"solidity\":0.2}},\"type\":\"bar\"}],\"scattergeo\":[{\"type\":\"scattergeo\",\"marker\":{\"colorbar\":{\"outlinewidth\":0,\"ticks\":\"\"}}}],\"scatterpolar\":[{\"type\":\"scatterpolar\",\"marker\":{\"colorbar\":{\"outlinewidth\":0,\"ticks\":\"\"}}}],\"histogram\":[{\"marker\":{\"pattern\":{\"fillmode\":\"overlay\",\"size\":10,\"solidity\":0.2}},\"type\":\"histogram\"}],\"scattergl\":[{\"type\":\"scattergl\",\"marker\":{\"colorbar\":{\"outlinewidth\":0,\"ticks\":\"\"}}}],\"scatter3d\":[{\"type\":\"scatter3d\",\"line\":{\"colorbar\":{\"outlinewidth\":0,\"ticks\":\"\"}},\"marker\":{\"colorbar\":{\"outlinewidth\":0,\"ticks\":\"\"}}}],\"scattermapbox\":[{\"type\":\"scattermapbox\",\"marker\":{\"colorbar\":{\"outlinewidth\":0,\"ticks\":\"\"}}}],\"scatterternary\":[{\"type\":\"scatterternary\",\"marker\":{\"colorbar\":{\"outlinewidth\":0,\"ticks\":\"\"}}}],\"scattercarpet\":[{\"type\":\"scattercarpet\",\"marker\":{\"colorbar\":{\"outlinewidth\":0,\"ticks\":\"\"}}}],\"carpet\":[{\"aaxis\":{\"endlinecolor\":\"#2a3f5f\",\"gridcolor\":\"white\",\"linecolor\":\"white\",\"minorgridcolor\":\"white\",\"startlinecolor\":\"#2a3f5f\"},\"baxis\":{\"endlinecolor\":\"#2a3f5f\",\"gridcolor\":\"white\",\"linecolor\":\"white\",\"minorgridcolor\":\"white\",\"startlinecolor\":\"#2a3f5f\"},\"type\":\"carpet\"}],\"table\":[{\"cells\":{\"fill\":{\"color\":\"#EBF0F8\"},\"line\":{\"color\":\"white\"}},\"header\":{\"fill\":{\"color\":\"#C8D4E3\"},\"line\":{\"color\":\"white\"}},\"type\":\"table\"}],\"barpolar\":[{\"marker\":{\"line\":{\"color\":\"#E5ECF6\",\"width\":0.5},\"pattern\":{\"fillmode\":\"overlay\",\"size\":10,\"solidity\":0.2}},\"type\":\"barpolar\"}],\"pie\":[{\"automargin\":true,\"type\":\"pie\"}]},\"layout\":{\"autotypenumbers\":\"strict\",\"colorway\":[\"#636efa\",\"#EF553B\",\"#00cc96\",\"#ab63fa\",\"#FFA15A\",\"#19d3f3\",\"#FF6692\",\"#B6E880\",\"#FF97FF\",\"#FECB52\"],\"font\":{\"color\":\"#2a3f5f\"},\"hovermode\":\"closest\",\"hoverlabel\":{\"align\":\"left\"},\"paper_bgcolor\":\"white\",\"plot_bgcolor\":\"#E5ECF6\",\"polar\":{\"bgcolor\":\"#E5ECF6\",\"angularaxis\":{\"gridcolor\":\"white\",\"linecolor\":\"white\",\"ticks\":\"\"},\"radialaxis\":{\"gridcolor\":\"white\",\"linecolor\":\"white\",\"ticks\":\"\"}},\"ternary\":{\"bgcolor\":\"#E5ECF6\",\"aaxis\":{\"gridcolor\":\"white\",\"linecolor\":\"white\",\"ticks\":\"\"},\"baxis\":{\"gridcolor\":\"white\",\"linecolor\":\"white\",\"ticks\":\"\"},\"caxis\":{\"gridcolor\":\"white\",\"linecolor\":\"white\",\"ticks\":\"\"}},\"coloraxis\":{\"colorbar\":{\"outlinewidth\":0,\"ticks\":\"\"}},\"colorscale\":{\"sequential\":[[0.0,\"#0d0887\"],[0.1111111111111111,\"#46039f\"],[0.2222222222222222,\"#7201a8\"],[0.3333333333333333,\"#9c179e\"],[0.4444444444444444,\"#bd3786\"],[0.5555555555555556,\"#d8576b\"],[0.6666666666666666,\"#ed7953\"],[0.7777777777777778,\"#fb9f3a\"],[0.8888888888888888,\"#fdca26\"],[1.0,\"#f0f921\"]],\"sequentialminus\":[[0.0,\"#0d0887\"],[0.1111111111111111,\"#46039f\"],[0.2222222222222222,\"#7201a8\"],[0.3333333333333333,\"#9c179e\"],[0.4444444444444444,\"#bd3786\"],[0.5555555555555556,\"#d8576b\"],[0.6666666666666666,\"#ed7953\"],[0.7777777777777778,\"#fb9f3a\"],[0.8888888888888888,\"#fdca26\"],[1.0,\"#f0f921\"]],\"diverging\":[[0,\"#8e0152\"],[0.1,\"#c51b7d\"],[0.2,\"#de77ae\"],[0.3,\"#f1b6da\"],[0.4,\"#fde0ef\"],[0.5,\"#f7f7f7\"],[0.6,\"#e6f5d0\"],[0.7,\"#b8e186\"],[0.8,\"#7fbc41\"],[0.9,\"#4d9221\"],[1,\"#276419\"]]},\"xaxis\":{\"gridcolor\":\"white\",\"linecolor\":\"white\",\"ticks\":\"\",\"title\":{\"standoff\":15},\"zerolinecolor\":\"white\",\"automargin\":true,\"zerolinewidth\":2},\"yaxis\":{\"gridcolor\":\"white\",\"linecolor\":\"white\",\"ticks\":\"\",\"title\":{\"standoff\":15},\"zerolinecolor\":\"white\",\"automargin\":true,\"zerolinewidth\":2},\"scene\":{\"xaxis\":{\"backgroundcolor\":\"#E5ECF6\",\"gridcolor\":\"white\",\"linecolor\":\"white\",\"showbackground\":true,\"ticks\":\"\",\"zerolinecolor\":\"white\",\"gridwidth\":2},\"yaxis\":{\"backgroundcolor\":\"#E5ECF6\",\"gridcolor\":\"white\",\"linecolor\":\"white\",\"showbackground\":true,\"ticks\":\"\",\"zerolinecolor\":\"white\",\"gridwidth\":2},\"zaxis\":{\"backgroundcolor\":\"#E5ECF6\",\"gridcolor\":\"white\",\"linecolor\":\"white\",\"showbackground\":true,\"ticks\":\"\",\"zerolinecolor\":\"white\",\"gridwidth\":2}},\"shapedefaults\":{\"line\":{\"color\":\"#2a3f5f\"}},\"annotationdefaults\":{\"arrowcolor\":\"#2a3f5f\",\"arrowhead\":0,\"arrowwidth\":1},\"geo\":{\"bgcolor\":\"white\",\"landcolor\":\"#E5ECF6\",\"subunitcolor\":\"white\",\"showland\":true,\"showlakes\":true,\"lakecolor\":\"white\"},\"title\":{\"x\":0.05},\"mapbox\":{\"style\":\"light\"}}},\"xaxis\":{\"anchor\":\"y\",\"domain\":[0.0,1.0],\"title\":{\"text\":\"Category\"},\"categoryorder\":\"array\",\"categoryarray\":[\"A\",\"B\",\"C\",\"D\"]},\"yaxis\":{\"anchor\":\"x\",\"domain\":[0.0,1.0],\"title\":{\"text\":\"Values\"}},\"legend\":{\"title\":{\"text\":\"Category\"},\"tracegroupgap\":0},\"title\":{\"text\":\"Sample Bar Plot\"},\"barmode\":\"relative\"},                        {\"responsive\": true}                    ).then(function(){\n",
              "                            \n",
              "var gd = document.getElementById('1f92edfb-df0a-48e0-937a-a54e590054e6');\n",
              "var x = new MutationObserver(function (mutations, observer) {{\n",
              "        var display = window.getComputedStyle(gd).display;\n",
              "        if (!display || display === 'none') {{\n",
              "            console.log([gd, 'removed!']);\n",
              "            Plotly.purge(gd);\n",
              "            observer.disconnect();\n",
              "        }}\n",
              "}});\n",
              "\n",
              "// Listen for the removal of the full notebook cells\n",
              "var notebookContainer = gd.closest('#notebook-container');\n",
              "if (notebookContainer) {{\n",
              "    x.observe(notebookContainer, {childList: true});\n",
              "}}\n",
              "\n",
              "// Listen for the clearing of the current output cell\n",
              "var outputEl = gd.closest('.output');\n",
              "if (outputEl) {{\n",
              "    x.observe(outputEl, {childList: true});\n",
              "}}\n",
              "\n",
              "                        })                };                            </script>        </div>\n",
              "</body>\n",
              "</html>"
            ]
          },
          "metadata": {}
        }
      ],
      "source": [
        "#5) Generate a bar plot using Plotly.\n",
        "\n",
        "\n",
        "import plotly.express as px\n",
        "import pandas as pd\n",
        "\n",
        "\n",
        "data = {\n",
        "    'Category': ['A', 'B', 'C', 'D'],\n",
        "    'Values': [23, 17, 35, 29]\n",
        "}\n",
        "\n",
        "df = pd.DataFrame(data)\n",
        "\n",
        "fig = px.bar(df, x='Category', y='Values', title='Sample Bar Plot', color='Category')\n",
        "\n",
        "# Show plot\n",
        "fig.show()"
      ]
    },
    {
      "cell_type": "code",
      "execution_count": null,
      "metadata": {
        "colab": {
          "base_uri": "https://localhost:8080/"
        },
        "id": "nROjtNxNOZ7z",
        "outputId": "ad0b88df-c3e3-4811-8fd2-eef95eb62ba3"
      },
      "outputs": [
        {
          "data": {
            "text/html": [
              "<div>\n",
              "<style scoped>\n",
              "    .dataframe tbody tr th:only-of-type {\n",
              "        vertical-align: middle;\n",
              "    }\n",
              "\n",
              "    .dataframe tbody tr th {\n",
              "        vertical-align: top;\n",
              "    }\n",
              "\n",
              "    .dataframe thead th {\n",
              "        text-align: right;\n",
              "    }\n",
              "</style>\n",
              "<table border=\"1\" class=\"dataframe\">\n",
              "  <thead>\n",
              "    <tr style=\"text-align: right;\">\n",
              "      <th></th>\n",
              "      <th>Name</th>\n",
              "      <th>Marks</th>\n",
              "      <th>Result</th>\n",
              "    </tr>\n",
              "  </thead>\n",
              "  <tbody>\n",
              "    <tr>\n",
              "      <th>0</th>\n",
              "      <td>Alice</td>\n",
              "      <td>85</td>\n",
              "      <td>Pass</td>\n",
              "    </tr>\n",
              "    <tr>\n",
              "      <th>1</th>\n",
              "      <td>Bob</td>\n",
              "      <td>42</td>\n",
              "      <td>Fail</td>\n",
              "    </tr>\n",
              "    <tr>\n",
              "      <th>2</th>\n",
              "      <td>Charlie</td>\n",
              "      <td>77</td>\n",
              "      <td>Pass</td>\n",
              "    </tr>\n",
              "    <tr>\n",
              "      <th>3</th>\n",
              "      <td>David</td>\n",
              "      <td>90</td>\n",
              "      <td>Pass</td>\n",
              "    </tr>\n",
              "  </tbody>\n",
              "</table>\n",
              "</div>"
            ],
            "text/plain": [
              "      Name  Marks Result\n",
              "0    Alice     85   Pass\n",
              "1      Bob     42   Fail\n",
              "2  Charlie     77   Pass\n",
              "3    David     90   Pass"
            ]
          },
          "execution_count": 2,
          "metadata": {},
          "output_type": "execute_result"
        }
      ],
      "source": [
        "#6)  Create a DataFrame and add a new column based on an existing column.\n",
        "\n",
        "import pandas as pd\n",
        "\n",
        "data = {\n",
        "    'Name': ['Alice', 'Bob', 'Charlie', 'David'],\n",
        "    'Marks': [85, 42, 77, 90]\n",
        "}\n",
        "\n",
        "df = pd.DataFrame(data)\n",
        "\n",
        "df['Result'] = df['Marks'].apply(lambda x: 'Pass' if x >= 50 else 'Fail')\n",
        "df\n"
      ]
    },
    {
      "cell_type": "code",
      "execution_count": null,
      "metadata": {
        "colab": {
          "base_uri": "https://localhost:8080/"
        },
        "id": "Lo8nCbE7GdKr",
        "outputId": "34fcc148-b1f2-4292-e4a7-2bcc4f94b68e"
      },
      "outputs": [
        {
          "name": "stdout",
          "output_type": "stream",
          "text": [
            "Element-wise multiplication: [ 5 12 21 32]\n"
          ]
        }
      ],
      "source": [
        "#7) Write a program to perform element-wise multiplication of two NumPy arrays.\n",
        "\n",
        "import numpy as np\n",
        "\n",
        "# Create two NumPy arrays\n",
        "array1 = np.array([1, 2, 3, 4])\n",
        "array2 = np.array([5, 6, 7, 8])\n",
        "\n",
        "\n",
        "result = array1 * array2\n",
        "\n",
        "print(\"Element-wise multiplication:\", result)\n"
      ]
    },
    {
      "cell_type": "code",
      "execution_count": null,
      "metadata": {
        "colab": {
          "base_uri": "https://localhost:8080/",
          "height": 472
        },
        "id": "NewWU624H1-k",
        "outputId": "70ea228d-3fea-4fd1-ccda-40cb3a29b00a"
      },
      "outputs": [
        {
          "data": {
            "image/png": "[encoded data removed]",
            "text/plain": [
              "<Figure size 640x480 with 1 Axes>"
            ]
          },
          "metadata": {},
          "output_type": "display_data"
        }
      ],
      "source": [
        "#8)  Create a line plot with multiple lines using Matplotlib.\n",
        "\n",
        "import matplotlib.pyplot as plt\n",
        "\n",
        "x = [1, 2, 3, 4, 5]\n",
        "y1 = [2, 4, 6, 8, 10]\n",
        "y2 = [1, 3, 5, 7, 9]\n",
        "y3 = [5, 7, 2, 4, 6]\n",
        "\n",
        "plt.plot(x, y1, label='Line 1', color='blue', marker='o')\n",
        "plt.plot(x, y2, label='Line 2', color='green', linestyle='--')\n",
        "plt.plot(x, y3, label='Line 3', color='red', linestyle='-.')\n",
        "\n",
        "\n",
        "plt.title('Line Plot with Multiple Lines')\n",
        "plt.xlabel('X-axis')\n",
        "plt.ylabel('Y-axis')\n",
        "\n",
        "plt.legend()\n",
        "\n",
        "plt.grid(True)\n",
        "plt.show()\n"
      ]
    },
    {
      "cell_type": "code",
      "execution_count": null,
      "metadata": {
        "colab": {
          "base_uri": "https://localhost:8080/"
        },
        "id": "v_5waO4VIovu",
        "outputId": "d45130c3-e1e6-4555-91b6-48f788c08755"
      },
      "outputs": [
        {
          "data": {
            "text/html": [
              "<div>\n",
              "<style scoped>\n",
              "    .dataframe tbody tr th:only-of-type {\n",
              "        vertical-align: middle;\n",
              "    }\n",
              "\n",
              "    .dataframe tbody tr th {\n",
              "        vertical-align: top;\n",
              "    }\n",
              "\n",
              "    .dataframe thead th {\n",
              "        text-align: right;\n",
              "    }\n",
              "</style>\n",
              "<table border=\"1\" class=\"dataframe\">\n",
              "  <thead>\n",
              "    <tr style=\"text-align: right;\">\n",
              "      <th></th>\n",
              "      <th>Name</th>\n",
              "      <th>Score</th>\n",
              "    </tr>\n",
              "  </thead>\n",
              "  <tbody>\n",
              "    <tr>\n",
              "      <th>0</th>\n",
              "      <td>Alice</td>\n",
              "      <td>85</td>\n",
              "    </tr>\n",
              "    <tr>\n",
              "      <th>2</th>\n",
              "      <td>Charlie</td>\n",
              "      <td>90</td>\n",
              "    </tr>\n",
              "    <tr>\n",
              "      <th>4</th>\n",
              "      <td>Eva</td>\n",
              "      <td>76</td>\n",
              "    </tr>\n",
              "  </tbody>\n",
              "</table>\n",
              "</div>"
            ],
            "text/plain": [
              "      Name  Score\n",
              "0    Alice     85\n",
              "2  Charlie     90\n",
              "4      Eva     76"
            ]
          },
          "execution_count": 3,
          "metadata": {},
          "output_type": "execute_result"
        }
      ],
      "source": [
        "#9)  Generate a Pandas DataFrame and filter rows where a column value is greater than a threshold.\n",
        "\n",
        "import pandas as pd\n",
        "\n",
        "data = {\n",
        "    'Name': ['Alice', 'Bob', 'Charlie', 'David', 'Eva'],\n",
        "    'Score': [85, 42, 90, 67, 76]\n",
        "}\n",
        "\n",
        "df = pd.DataFrame(data)\n",
        "\n",
        "threshold = 70\n",
        "\n",
        "filtered_df = df[df['Score'] > threshold]\n",
        "\n",
        "\n",
        "(\"Filtered DataFrame (Score > 70):\")\n",
        "(filtered_df)\n"
      ]
    },
    {
      "cell_type": "code",
      "execution_count": null,
      "metadata": {
        "colab": {
          "base_uri": "https://localhost:8080/",
          "height": 472
        },
        "id": "khJVsdUZJE01",
        "outputId": "4ba2778c-ead7-41c8-a10b-d61e964a4d84"
      },
      "outputs": [
        {
          "data": {
            "image/png": "[encoded data removed]",
            "text/plain": [
              "<Figure size 640x480 with 1 Axes>"
            ]
          },
          "metadata": {},
          "output_type": "display_data"
        }
      ],
      "source": [
        "#10) Create a histogram using Seaborn to visualize a distribution.\n",
        "\n",
        "import seaborn as sns\n",
        "import matplotlib.pyplot as plt\n",
        "\n",
        "data = [12, 15, 13, 16, 14, 14, 17, 15, 16, 18, 19, 15, 14, 13, 16]\n",
        "\n",
        "sns.histplot(data, bins=6, kde=True, color='skyblue')\n",
        "\n",
        "plt.title('Distribution Histogram')\n",
        "plt.xlabel('Value')\n",
        "plt.ylabel('Frequency')\n",
        "\n",
        "# Show plot\n",
        "plt.show()\n"
      ]
    },
    {
      "cell_type": "code",
      "execution_count": null,
      "metadata": {
        "colab": {
          "base_uri": "https://localhost:8080/"
        },
        "id": "V_SQvYjQJupQ",
        "outputId": "2dca7ab4-3ad4-411c-97cc-54de39093880"
      },
      "outputs": [
        {
          "name": "stdout",
          "output_type": "stream",
          "text": [
            "Matrix Multiplication Result:\n",
            "[[19 22]\n",
            " [43 50]]\n"
          ]
        }
      ],
      "source": [
        "#11)  Perform matrix multiplication using NumPy.\n",
        "\n",
        "import numpy as np\n",
        "\n",
        "A = np.array([[1, 2],\n",
        "              [3, 4]])\n",
        "\n",
        "B = np.array([[5, 6],\n",
        "              [7, 8]])\n",
        "\n",
        "result = np.dot(A, B)\n",
        "\n",
        "print(\"Matrix Multiplication Result:\")\n",
        "print(result)\n"
      ]
    },
    {
      "cell_type": "code",
      "execution_count": null,
      "metadata": {
        "colab": {
          "base_uri": "https://localhost:8080/",
          "height": 532
        },
        "id": "uR2yyPydKEW9",
        "outputId": "4a90a194-ae0e-4a4e-8cc5-b8ee965d3bcb"
      },
      "outputs": [
        {
          "data": {
            "text/html": [
              "<div>\n",
              "<style scoped>\n",
              "    .dataframe tbody tr th:only-of-type {\n",
              "        vertical-align: middle;\n",
              "    }\n",
              "\n",
              "    .dataframe tbody tr th {\n",
              "        vertical-align: top;\n",
              "    }\n",
              "\n",
              "    .dataframe thead th {\n",
              "        text-align: right;\n",
              "    }\n",
              "</style>\n",
              "<table border=\"1\" class=\"dataframe\">\n",
              "  <thead>\n",
              "    <tr style=\"text-align: right;\">\n",
              "      <th></th>\n",
              "      <th>ORDERNUMBER</th>\n",
              "      <th>QUANTITYORDERED</th>\n",
              "      <th>PRICEEACH</th>\n",
              "      <th>ORDERLINENUMBER</th>\n",
              "      <th>ORDERDATETIME</th>\n",
              "      <th>DELIVERYDATETIME</th>\n",
              "      <th>STATUS</th>\n",
              "      <th>PRODUCTLINE</th>\n",
              "      <th>CITY</th>\n",
              "      <th>STATE</th>\n",
              "      <th>POSTALCODE</th>\n",
              "      <th>COUNTRY</th>\n",
              "      <th>TERRITORY</th>\n",
              "      <th>CONTACTLASTNAME</th>\n",
              "      <th>CONTACTFIRSTNAME</th>\n",
              "      <th>DEALSIZE</th>\n",
              "      <th>Sales</th>\n",
              "    </tr>\n",
              "  </thead>\n",
              "  <tbody>\n",
              "    <tr>\n",
              "      <th>0</th>\n",
              "      <td>10107</td>\n",
              "      <td>30</td>\n",
              "      <td>95.70</td>\n",
              "      <td>2</td>\n",
              "      <td>15-12-2013 00:50</td>\n",
              "      <td>17-12-2013 09:08</td>\n",
              "      <td>Shipped</td>\n",
              "      <td>Motorcycles</td>\n",
              "      <td>NYC</td>\n",
              "      <td>NY</td>\n",
              "      <td>10022</td>\n",
              "      <td>USA</td>\n",
              "      <td>NaN</td>\n",
              "      <td>Yu</td>\n",
              "      <td>Kwai</td>\n",
              "      <td>Small</td>\n",
              "      <td>2871.00</td>\n",
              "    </tr>\n",
              "    <tr>\n",
              "      <th>1</th>\n",
              "      <td>10121</td>\n",
              "      <td>34</td>\n",
              "      <td>81.35</td>\n",
              "      <td>5</td>\n",
              "      <td>29-04-2014 23:40</td>\n",
              "      <td>1/5/2014 12:49</td>\n",
              "      <td>Shipped</td>\n",
              "      <td>Motorcycles</td>\n",
              "      <td>Reims</td>\n",
              "      <td>NaN</td>\n",
              "      <td>51100</td>\n",
              "      <td>France</td>\n",
              "      <td>EMEA</td>\n",
              "      <td>Henriot</td>\n",
              "      <td>Paul</td>\n",
              "      <td>Small</td>\n",
              "      <td>2765.90</td>\n",
              "    </tr>\n",
              "    <tr>\n",
              "      <th>2</th>\n",
              "      <td>10134</td>\n",
              "      <td>41</td>\n",
              "      <td>94.74</td>\n",
              "      <td>2</td>\n",
              "      <td>30-12-2012 00:21</td>\n",
              "      <td>30-12-2012 23:34</td>\n",
              "      <td>Shipped</td>\n",
              "      <td>Motorcycles</td>\n",
              "      <td>Paris</td>\n",
              "      <td>NaN</td>\n",
              "      <td>75508</td>\n",
              "      <td>France</td>\n",
              "      <td>EMEA</td>\n",
              "      <td>Da Cunha</td>\n",
              "      <td>Daniel</td>\n",
              "      <td>Medium</td>\n",
              "      <td>3884.34</td>\n",
              "    </tr>\n",
              "    <tr>\n",
              "      <th>3</th>\n",
              "      <td>10145</td>\n",
              "      <td>45</td>\n",
              "      <td>83.26</td>\n",
              "      <td>6</td>\n",
              "      <td>28-11-2014 00:31</td>\n",
              "      <td>29-11-2014 06:08</td>\n",
              "      <td>Shipped</td>\n",
              "      <td>Motorcycles</td>\n",
              "      <td>Pasadena</td>\n",
              "      <td>CA</td>\n",
              "      <td>90003</td>\n",
              "      <td>USA</td>\n",
              "      <td>NaN</td>\n",
              "      <td>Young</td>\n",
              "      <td>Julie</td>\n",
              "      <td>Medium</td>\n",
              "      <td>3746.70</td>\n",
              "    </tr>\n",
              "    <tr>\n",
              "      <th>4</th>\n",
              "      <td>10159</td>\n",
              "      <td>49</td>\n",
              "      <td>100.00</td>\n",
              "      <td>14</td>\n",
              "      <td>26-10-2013 23:11</td>\n",
              "      <td>27-10-2013 12:16</td>\n",
              "      <td>Shipped</td>\n",
              "      <td>Motorcycles</td>\n",
              "      <td>San Francisco</td>\n",
              "      <td>CA</td>\n",
              "      <td>NaN</td>\n",
              "      <td>USA</td>\n",
              "      <td>NaN</td>\n",
              "      <td>Brown</td>\n",
              "      <td>Julie</td>\n",
              "      <td>Medium</td>\n",
              "      <td>4900.00</td>\n",
              "    </tr>\n",
              "    <tr>\n",
              "      <th>...</th>\n",
              "      <td>...</td>\n",
              "      <td>...</td>\n",
              "      <td>...</td>\n",
              "      <td>...</td>\n",
              "      <td>...</td>\n",
              "      <td>...</td>\n",
              "      <td>...</td>\n",
              "      <td>...</td>\n",
              "      <td>...</td>\n",
              "      <td>...</td>\n",
              "      <td>...</td>\n",
              "      <td>...</td>\n",
              "      <td>...</td>\n",
              "      <td>...</td>\n",
              "      <td>...</td>\n",
              "      <td>...</td>\n",
              "      <td>...</td>\n",
              "    </tr>\n",
              "    <tr>\n",
              "      <th>2818</th>\n",
              "      <td>10350</td>\n",
              "      <td>20</td>\n",
              "      <td>100.00</td>\n",
              "      <td>15</td>\n",
              "      <td>6/3/2015 0:48</td>\n",
              "      <td>8/3/2015 20:24</td>\n",
              "      <td>Shipped</td>\n",
              "      <td>Ships</td>\n",
              "      <td>Madrid</td>\n",
              "      <td>NaN</td>\n",
              "      <td>28034</td>\n",
              "      <td>Spain</td>\n",
              "      <td>EMEA</td>\n",
              "      <td>Freyre</td>\n",
              "      <td>Diego</td>\n",
              "      <td>Small</td>\n",
              "      <td>2000.00</td>\n",
              "    </tr>\n",
              "    <tr>\n",
              "      <th>2819</th>\n",
              "      <td>10373</td>\n",
              "      <td>29</td>\n",
              "      <td>100.00</td>\n",
              "      <td>1</td>\n",
              "      <td>28-02-2015 01:15</td>\n",
              "      <td>2/3/2015 14:26</td>\n",
              "      <td>Shipped</td>\n",
              "      <td>Ships</td>\n",
              "      <td>Oulu</td>\n",
              "      <td>NaN</td>\n",
              "      <td>90110</td>\n",
              "      <td>Finland</td>\n",
              "      <td>EMEA</td>\n",
              "      <td>Koskitalo</td>\n",
              "      <td>Pirkko</td>\n",
              "      <td>Medium</td>\n",
              "      <td>2900.00</td>\n",
              "    </tr>\n",
              "    <tr>\n",
              "      <th>2820</th>\n",
              "      <td>10386</td>\n",
              "      <td>43</td>\n",
              "      <td>100.00</td>\n",
              "      <td>4</td>\n",
              "      <td>20-06-2015 23:02</td>\n",
              "      <td>23-06-2015 15:16</td>\n",
              "      <td>Resolved</td>\n",
              "      <td>Ships</td>\n",
              "      <td>Madrid</td>\n",
              "      <td>NaN</td>\n",
              "      <td>28034</td>\n",
              "      <td>Spain</td>\n",
              "      <td>EMEA</td>\n",
              "      <td>Freyre</td>\n",
              "      <td>Diego</td>\n",
              "      <td>Medium</td>\n",
              "      <td>4300.00</td>\n",
              "    </tr>\n",
              "    <tr>\n",
              "      <th>2821</th>\n",
              "      <td>10397</td>\n",
              "      <td>34</td>\n",
              "      <td>62.24</td>\n",
              "      <td>1</td>\n",
              "      <td>17-09-2012 00:15</td>\n",
              "      <td>18-09-2012 14:44</td>\n",
              "      <td>Shipped</td>\n",
              "      <td>Ships</td>\n",
              "      <td>Toulouse</td>\n",
              "      <td>NaN</td>\n",
              "      <td>31000</td>\n",
              "      <td>France</td>\n",
              "      <td>EMEA</td>\n",
              "      <td>Roulet</td>\n",
              "      <td>Annette</td>\n",
              "      <td>Small</td>\n",
              "      <td>2116.16</td>\n",
              "    </tr>\n",
              "    <tr>\n",
              "      <th>2822</th>\n",
              "      <td>10414</td>\n",
              "      <td>47</td>\n",
              "      <td>65.52</td>\n",
              "      <td>9</td>\n",
              "      <td>31-08-2015 00:02</td>\n",
              "      <td>31-08-2015 12:41</td>\n",
              "      <td>On Hold</td>\n",
              "      <td>Ships</td>\n",
              "      <td>Boston</td>\n",
              "      <td>MA</td>\n",
              "      <td>51003</td>\n",
              "      <td>USA</td>\n",
              "      <td>NaN</td>\n",
              "      <td>Yoshido</td>\n",
              "      <td>Juri</td>\n",
              "      <td>Medium</td>\n",
              "      <td>3079.44</td>\n",
              "    </tr>\n",
              "  </tbody>\n",
              "</table>\n",
              "<p>2823 rows × 17 columns</p>\n",
              "</div>"
            ],
            "text/plain": [
              "      ORDERNUMBER  QUANTITYORDERED  PRICEEACH  ORDERLINENUMBER  \\\n",
              "0           10107               30      95.70                2   \n",
              "1           10121               34      81.35                5   \n",
              "2           10134               41      94.74                2   \n",
              "3           10145               45      83.26                6   \n",
              "4           10159               49     100.00               14   \n",
              "...           ...              ...        ...              ...   \n",
              "2818        10350               20     100.00               15   \n",
              "2819        10373               29     100.00                1   \n",
              "2820        10386               43     100.00                4   \n",
              "2821        10397               34      62.24                1   \n",
              "2822        10414               47      65.52                9   \n",
              "\n",
              "         ORDERDATETIME  DELIVERYDATETIME    STATUS  PRODUCTLINE  \\\n",
              "0     15-12-2013 00:50  17-12-2013 09:08   Shipped  Motorcycles   \n",
              "1     29-04-2014 23:40    1/5/2014 12:49   Shipped  Motorcycles   \n",
              "2     30-12-2012 00:21  30-12-2012 23:34   Shipped  Motorcycles   \n",
              "3     28-11-2014 00:31  29-11-2014 06:08   Shipped  Motorcycles   \n",
              "4     26-10-2013 23:11  27-10-2013 12:16   Shipped  Motorcycles   \n",
              "...                ...               ...       ...          ...   \n",
              "2818     6/3/2015 0:48    8/3/2015 20:24   Shipped        Ships   \n",
              "2819  28-02-2015 01:15    2/3/2015 14:26   Shipped        Ships   \n",
              "2820  20-06-2015 23:02  23-06-2015 15:16  Resolved        Ships   \n",
              "2821  17-09-2012 00:15  18-09-2012 14:44   Shipped        Ships   \n",
              "2822  31-08-2015 00:02  31-08-2015 12:41   On Hold        Ships   \n",
              "\n",
              "               CITY STATE POSTALCODE  COUNTRY TERRITORY CONTACTLASTNAME  \\\n",
              "0               NYC    NY      10022      USA       NaN              Yu   \n",
              "1             Reims   NaN      51100   France      EMEA         Henriot   \n",
              "2             Paris   NaN      75508   France      EMEA        Da Cunha   \n",
              "3          Pasadena    CA      90003      USA       NaN           Young   \n",
              "4     San Francisco    CA        NaN      USA       NaN           Brown   \n",
              "...             ...   ...        ...      ...       ...             ...   \n",
              "2818         Madrid   NaN      28034    Spain      EMEA          Freyre   \n",
              "2819           Oulu   NaN      90110  Finland      EMEA       Koskitalo   \n",
              "2820         Madrid   NaN      28034    Spain      EMEA          Freyre   \n",
              "2821       Toulouse   NaN      31000   France      EMEA          Roulet   \n",
              "2822         Boston    MA      51003      USA       NaN         Yoshido   \n",
              "\n",
              "     CONTACTFIRSTNAME DEALSIZE    Sales  \n",
              "0                Kwai    Small  2871.00  \n",
              "1                Paul    Small  2765.90  \n",
              "2              Daniel   Medium  3884.34  \n",
              "3               Julie   Medium  3746.70  \n",
              "4               Julie   Medium  4900.00  \n",
              "...               ...      ...      ...  \n",
              "2818            Diego    Small  2000.00  \n",
              "2819           Pirkko   Medium  2900.00  \n",
              "2820            Diego   Medium  4300.00  \n",
              "2821          Annette    Small  2116.16  \n",
              "2822             Juri   Medium  3079.44  \n",
              "\n",
              "[2823 rows x 17 columns]"
            ]
          },
          "execution_count": 1,
          "metadata": {},
          "output_type": "execute_result"
        }
      ],
      "source": [
        "#12) Use Pandas to load a CSV file and display its first 5 rows.\n",
        "\n",
        "import pandas as pd\n",
        "\n",
        "df = pd.read_csv(\"C:\\\\Users\\\\dell\\\\Downloads\\\\vo_comp (1).csv\")\n",
        "df\n"
      ]
    },
    {
      "cell_type": "code",
      "execution_count": null,
      "metadata": {
        "id": "ifw5hBWiAASN",
        "outputId": "dbd23c48-932a-4c96-c59b-9c1800d1ebfd"
      },
      "outputs": [
        {
          "data": {
            "text/html": [
              "<div>\n",
              "<style scoped>\n",
              "    .dataframe tbody tr th:only-of-type {\n",
              "        vertical-align: middle;\n",
              "    }\n",
              "\n",
              "    .dataframe tbody tr th {\n",
              "        vertical-align: top;\n",
              "    }\n",
              "\n",
              "    .dataframe thead th {\n",
              "        text-align: right;\n",
              "    }\n",
              "</style>\n",
              "<table border=\"1\" class=\"dataframe\">\n",
              "  <thead>\n",
              "    <tr style=\"text-align: right;\">\n",
              "      <th></th>\n",
              "      <th>ORDERNUMBER</th>\n",
              "      <th>QUANTITYORDERED</th>\n",
              "      <th>PRICEEACH</th>\n",
              "      <th>ORDERLINENUMBER</th>\n",
              "      <th>ORDERDATETIME</th>\n",
              "      <th>DELIVERYDATETIME</th>\n",
              "      <th>STATUS</th>\n",
              "      <th>PRODUCTLINE</th>\n",
              "      <th>CITY</th>\n",
              "      <th>STATE</th>\n",
              "      <th>POSTALCODE</th>\n",
              "      <th>COUNTRY</th>\n",
              "      <th>TERRITORY</th>\n",
              "      <th>CONTACTLASTNAME</th>\n",
              "      <th>CONTACTFIRSTNAME</th>\n",
              "      <th>DEALSIZE</th>\n",
              "      <th>Sales</th>\n",
              "    </tr>\n",
              "  </thead>\n",
              "  <tbody>\n",
              "    <tr>\n",
              "      <th>0</th>\n",
              "      <td>10107</td>\n",
              "      <td>30</td>\n",
              "      <td>95.70</td>\n",
              "      <td>2</td>\n",
              "      <td>15-12-2013 00:50</td>\n",
              "      <td>17-12-2013 09:08</td>\n",
              "      <td>Shipped</td>\n",
              "      <td>Motorcycles</td>\n",
              "      <td>NYC</td>\n",
              "      <td>NY</td>\n",
              "      <td>10022</td>\n",
              "      <td>USA</td>\n",
              "      <td>NaN</td>\n",
              "      <td>Yu</td>\n",
              "      <td>Kwai</td>\n",
              "      <td>Small</td>\n",
              "      <td>2871.00</td>\n",
              "    </tr>\n",
              "    <tr>\n",
              "      <th>1</th>\n",
              "      <td>10121</td>\n",
              "      <td>34</td>\n",
              "      <td>81.35</td>\n",
              "      <td>5</td>\n",
              "      <td>29-04-2014 23:40</td>\n",
              "      <td>1/5/2014 12:49</td>\n",
              "      <td>Shipped</td>\n",
              "      <td>Motorcycles</td>\n",
              "      <td>Reims</td>\n",
              "      <td>NaN</td>\n",
              "      <td>51100</td>\n",
              "      <td>France</td>\n",
              "      <td>EMEA</td>\n",
              "      <td>Henriot</td>\n",
              "      <td>Paul</td>\n",
              "      <td>Small</td>\n",
              "      <td>2765.90</td>\n",
              "    </tr>\n",
              "    <tr>\n",
              "      <th>2</th>\n",
              "      <td>10134</td>\n",
              "      <td>41</td>\n",
              "      <td>94.74</td>\n",
              "      <td>2</td>\n",
              "      <td>30-12-2012 00:21</td>\n",
              "      <td>30-12-2012 23:34</td>\n",
              "      <td>Shipped</td>\n",
              "      <td>Motorcycles</td>\n",
              "      <td>Paris</td>\n",
              "      <td>NaN</td>\n",
              "      <td>75508</td>\n",
              "      <td>France</td>\n",
              "      <td>EMEA</td>\n",
              "      <td>Da Cunha</td>\n",
              "      <td>Daniel</td>\n",
              "      <td>Medium</td>\n",
              "      <td>3884.34</td>\n",
              "    </tr>\n",
              "    <tr>\n",
              "      <th>3</th>\n",
              "      <td>10145</td>\n",
              "      <td>45</td>\n",
              "      <td>83.26</td>\n",
              "      <td>6</td>\n",
              "      <td>28-11-2014 00:31</td>\n",
              "      <td>29-11-2014 06:08</td>\n",
              "      <td>Shipped</td>\n",
              "      <td>Motorcycles</td>\n",
              "      <td>Pasadena</td>\n",
              "      <td>CA</td>\n",
              "      <td>90003</td>\n",
              "      <td>USA</td>\n",
              "      <td>NaN</td>\n",
              "      <td>Young</td>\n",
              "      <td>Julie</td>\n",
              "      <td>Medium</td>\n",
              "      <td>3746.70</td>\n",
              "    </tr>\n",
              "    <tr>\n",
              "      <th>4</th>\n",
              "      <td>10159</td>\n",
              "      <td>49</td>\n",
              "      <td>100.00</td>\n",
              "      <td>14</td>\n",
              "      <td>26-10-2013 23:11</td>\n",
              "      <td>27-10-2013 12:16</td>\n",
              "      <td>Shipped</td>\n",
              "      <td>Motorcycles</td>\n",
              "      <td>San Francisco</td>\n",
              "      <td>CA</td>\n",
              "      <td>NaN</td>\n",
              "      <td>USA</td>\n",
              "      <td>NaN</td>\n",
              "      <td>Brown</td>\n",
              "      <td>Julie</td>\n",
              "      <td>Medium</td>\n",
              "      <td>4900.00</td>\n",
              "    </tr>\n",
              "  </tbody>\n",
              "</table>\n",
              "</div>"
            ],
            "text/plain": [
              "   ORDERNUMBER  QUANTITYORDERED  PRICEEACH  ORDERLINENUMBER     ORDERDATETIME  \\\n",
              "0        10107               30      95.70                2  15-12-2013 00:50   \n",
              "1        10121               34      81.35                5  29-04-2014 23:40   \n",
              "2        10134               41      94.74                2  30-12-2012 00:21   \n",
              "3        10145               45      83.26                6  28-11-2014 00:31   \n",
              "4        10159               49     100.00               14  26-10-2013 23:11   \n",
              "\n",
              "   DELIVERYDATETIME   STATUS  PRODUCTLINE           CITY STATE POSTALCODE  \\\n",
              "0  17-12-2013 09:08  Shipped  Motorcycles            NYC    NY      10022   \n",
              "1    1/5/2014 12:49  Shipped  Motorcycles          Reims   NaN      51100   \n",
              "2  30-12-2012 23:34  Shipped  Motorcycles          Paris   NaN      75508   \n",
              "3  29-11-2014 06:08  Shipped  Motorcycles       Pasadena    CA      90003   \n",
              "4  27-10-2013 12:16  Shipped  Motorcycles  San Francisco    CA        NaN   \n",
              "\n",
              "  COUNTRY TERRITORY CONTACTLASTNAME CONTACTFIRSTNAME DEALSIZE    Sales  \n",
              "0     USA       NaN              Yu             Kwai    Small  2871.00  \n",
              "1  France      EMEA         Henriot             Paul    Small  2765.90  \n",
              "2  France      EMEA        Da Cunha           Daniel   Medium  3884.34  \n",
              "3     USA       NaN           Young            Julie   Medium  3746.70  \n",
              "4     USA       NaN           Brown            Julie   Medium  4900.00  "
            ]
          },
          "execution_count": 2,
          "metadata": {},
          "output_type": "execute_result"
        }
      ],
      "source": [
        "df.head()"
      ]
    },
    {
      "cell_type": "code",
      "execution_count": null,
      "metadata": {
        "id": "OvGYxhsaAASS"
      },
      "outputs": [],
      "source": []
    },
    {
      "cell_type": "code",
      "execution_count": 4,
      "metadata": {
        "colab": {
          "base_uri": "https://localhost:8080/",
          "height": 542
        },
        "id": "g7YpdWYqKy3z",
        "outputId": "8fe189e5-9379-434e-97ed-1f576f5092cd"
      },
      "outputs": [
        {
          "output_type": "display_data",
          "data": {
            "text/html": [
              "<html>\n",
              "<head><meta charset=\"utf-8\" /></head>\n",
              "<body>\n",
              "    <div>            <script src=\"https://cdnjs.cloudflare.com/ajax/libs/mathjax/2.7.5/MathJax.js?config=TeX-AMS-MML_SVG\"></script><script type=\"text/javascript\">if (window.MathJax && window.MathJax.Hub && window.MathJax.Hub.Config) {window.MathJax.Hub.Config({SVG: {font: \"STIX-Web\"}});}</script>                <script type=\"text/javascript\">window.PlotlyConfig = {MathJaxConfig: 'local'};</script>\n",
              "        <script charset=\"utf-8\" src=\"https://cdn.plot.ly/plotly-2.35.2.min.js\"></script>                <div id=\"f0fde845-fa60-4f2c-9750-73564535d946\" class=\"plotly-graph-div\" style=\"height:525px; width:100%;\"></div>            <script type=\"text/javascript\">                                    window.PLOTLYENV=window.PLOTLYENV || {};                                    if (document.getElementById(\"f0fde845-fa60-4f2c-9750-73564535d946\")) {                    Plotly.newPlot(                        \"f0fde845-fa60-4f2c-9750-73564535d946\",                        [{\"hovertemplate\":\"X=%{x}\\u003cbr\\u003eY=%{y}\\u003cbr\\u003eZ=%{z}\\u003cextra\\u003e\\u003c\\u002fextra\\u003e\",\"legendgroup\":\"\",\"marker\":{\"color\":\"#636efa\",\"symbol\":\"circle\"},\"mode\":\"markers\",\"name\":\"\",\"scene\":\"scene\",\"showlegend\":false,\"x\":[1,2,3,4,5],\"y\":[2,4,6,8,10],\"z\":[3,6,9,12,15],\"type\":\"scatter3d\"}],                        {\"template\":{\"data\":{\"histogram2dcontour\":[{\"type\":\"histogram2dcontour\",\"colorbar\":{\"outlinewidth\":0,\"ticks\":\"\"},\"colorscale\":[[0.0,\"#0d0887\"],[0.1111111111111111,\"#46039f\"],[0.2222222222222222,\"#7201a8\"],[0.3333333333333333,\"#9c179e\"],[0.4444444444444444,\"#bd3786\"],[0.5555555555555556,\"#d8576b\"],[0.6666666666666666,\"#ed7953\"],[0.7777777777777778,\"#fb9f3a\"],[0.8888888888888888,\"#fdca26\"],[1.0,\"#f0f921\"]]}],\"choropleth\":[{\"type\":\"choropleth\",\"colorbar\":{\"outlinewidth\":0,\"ticks\":\"\"}}],\"histogram2d\":[{\"type\":\"histogram2d\",\"colorbar\":{\"outlinewidth\":0,\"ticks\":\"\"},\"colorscale\":[[0.0,\"#0d0887\"],[0.1111111111111111,\"#46039f\"],[0.2222222222222222,\"#7201a8\"],[0.3333333333333333,\"#9c179e\"],[0.4444444444444444,\"#bd3786\"],[0.5555555555555556,\"#d8576b\"],[0.6666666666666666,\"#ed7953\"],[0.7777777777777778,\"#fb9f3a\"],[0.8888888888888888,\"#fdca26\"],[1.0,\"#f0f921\"]]}],\"heatmap\":[{\"type\":\"heatmap\",\"colorbar\":{\"outlinewidth\":0,\"ticks\":\"\"},\"colorscale\":[[0.0,\"#0d0887\"],[0.1111111111111111,\"#46039f\"],[0.2222222222222222,\"#7201a8\"],[0.3333333333333333,\"#9c179e\"],[0.4444444444444444,\"#bd3786\"],[0.5555555555555556,\"#d8576b\"],[0.6666666666666666,\"#ed7953\"],[0.7777777777777778,\"#fb9f3a\"],[0.8888888888888888,\"#fdca26\"],[1.0,\"#f0f921\"]]}],\"heatmapgl\":[{\"type\":\"heatmapgl\",\"colorbar\":{\"outlinewidth\":0,\"ticks\":\"\"},\"colorscale\":[[0.0,\"#0d0887\"],[0.1111111111111111,\"#46039f\"],[0.2222222222222222,\"#7201a8\"],[0.3333333333333333,\"#9c179e\"],[0.4444444444444444,\"#bd3786\"],[0.5555555555555556,\"#d8576b\"],[0.6666666666666666,\"#ed7953\"],[0.7777777777777778,\"#fb9f3a\"],[0.8888888888888888,\"#fdca26\"],[1.0,\"#f0f921\"]]}],\"contourcarpet\":[{\"type\":\"contourcarpet\",\"colorbar\":{\"outlinewidth\":0,\"ticks\":\"\"}}],\"contour\":[{\"type\":\"contour\",\"colorbar\":{\"outlinewidth\":0,\"ticks\":\"\"},\"colorscale\":[[0.0,\"#0d0887\"],[0.1111111111111111,\"#46039f\"],[0.2222222222222222,\"#7201a8\"],[0.3333333333333333,\"#9c179e\"],[0.4444444444444444,\"#bd3786\"],[0.5555555555555556,\"#d8576b\"],[0.6666666666666666,\"#ed7953\"],[0.7777777777777778,\"#fb9f3a\"],[0.8888888888888888,\"#fdca26\"],[1.0,\"#f0f921\"]]}],\"surface\":[{\"type\":\"surface\",\"colorbar\":{\"outlinewidth\":0,\"ticks\":\"\"},\"colorscale\":[[0.0,\"#0d0887\"],[0.1111111111111111,\"#46039f\"],[0.2222222222222222,\"#7201a8\"],[0.3333333333333333,\"#9c179e\"],[0.4444444444444444,\"#bd3786\"],[0.5555555555555556,\"#d8576b\"],[0.6666666666666666,\"#ed7953\"],[0.7777777777777778,\"#fb9f3a\"],[0.8888888888888888,\"#fdca26\"],[1.0,\"#f0f921\"]]}],\"mesh3d\":[{\"type\":\"mesh3d\",\"colorbar\":{\"outlinewidth\":0,\"ticks\":\"\"}}],\"scatter\":[{\"fillpattern\":{\"fillmode\":\"overlay\",\"size\":10,\"solidity\":0.2},\"type\":\"scatter\"}],\"parcoords\":[{\"type\":\"parcoords\",\"line\":{\"colorbar\":{\"outlinewidth\":0,\"ticks\":\"\"}}}],\"scatterpolargl\":[{\"type\":\"scatterpolargl\",\"marker\":{\"colorbar\":{\"outlinewidth\":0,\"ticks\":\"\"}}}],\"bar\":[{\"error_x\":{\"color\":\"#2a3f5f\"},\"error_y\":{\"color\":\"#2a3f5f\"},\"marker\":{\"line\":{\"color\":\"#E5ECF6\",\"width\":0.5},\"pattern\":{\"fillmode\":\"overlay\",\"size\":10,\"solidity\":0.2}},\"type\":\"bar\"}],\"scattergeo\":[{\"type\":\"scattergeo\",\"marker\":{\"colorbar\":{\"outlinewidth\":0,\"ticks\":\"\"}}}],\"scatterpolar\":[{\"type\":\"scatterpolar\",\"marker\":{\"colorbar\":{\"outlinewidth\":0,\"ticks\":\"\"}}}],\"histogram\":[{\"marker\":{\"pattern\":{\"fillmode\":\"overlay\",\"size\":10,\"solidity\":0.2}},\"type\":\"histogram\"}],\"scattergl\":[{\"type\":\"scattergl\",\"marker\":{\"colorbar\":{\"outlinewidth\":0,\"ticks\":\"\"}}}],\"scatter3d\":[{\"type\":\"scatter3d\",\"line\":{\"colorbar\":{\"outlinewidth\":0,\"ticks\":\"\"}},\"marker\":{\"colorbar\":{\"outlinewidth\":0,\"ticks\":\"\"}}}],\"scattermapbox\":[{\"type\":\"scattermapbox\",\"marker\":{\"colorbar\":{\"outlinewidth\":0,\"ticks\":\"\"}}}],\"scatterternary\":[{\"type\":\"scatterternary\",\"marker\":{\"colorbar\":{\"outlinewidth\":0,\"ticks\":\"\"}}}],\"scattercarpet\":[{\"type\":\"scattercarpet\",\"marker\":{\"colorbar\":{\"outlinewidth\":0,\"ticks\":\"\"}}}],\"carpet\":[{\"aaxis\":{\"endlinecolor\":\"#2a3f5f\",\"gridcolor\":\"white\",\"linecolor\":\"white\",\"minorgridcolor\":\"white\",\"startlinecolor\":\"#2a3f5f\"},\"baxis\":{\"endlinecolor\":\"#2a3f5f\",\"gridcolor\":\"white\",\"linecolor\":\"white\",\"minorgridcolor\":\"white\",\"startlinecolor\":\"#2a3f5f\"},\"type\":\"carpet\"}],\"table\":[{\"cells\":{\"fill\":{\"color\":\"#EBF0F8\"},\"line\":{\"color\":\"white\"}},\"header\":{\"fill\":{\"color\":\"#C8D4E3\"},\"line\":{\"color\":\"white\"}},\"type\":\"table\"}],\"barpolar\":[{\"marker\":{\"line\":{\"color\":\"#E5ECF6\",\"width\":0.5},\"pattern\":{\"fillmode\":\"overlay\",\"size\":10,\"solidity\":0.2}},\"type\":\"barpolar\"}],\"pie\":[{\"automargin\":true,\"type\":\"pie\"}]},\"layout\":{\"autotypenumbers\":\"strict\",\"colorway\":[\"#636efa\",\"#EF553B\",\"#00cc96\",\"#ab63fa\",\"#FFA15A\",\"#19d3f3\",\"#FF6692\",\"#B6E880\",\"#FF97FF\",\"#FECB52\"],\"font\":{\"color\":\"#2a3f5f\"},\"hovermode\":\"closest\",\"hoverlabel\":{\"align\":\"left\"},\"paper_bgcolor\":\"white\",\"plot_bgcolor\":\"#E5ECF6\",\"polar\":{\"bgcolor\":\"#E5ECF6\",\"angularaxis\":{\"gridcolor\":\"white\",\"linecolor\":\"white\",\"ticks\":\"\"},\"radialaxis\":{\"gridcolor\":\"white\",\"linecolor\":\"white\",\"ticks\":\"\"}},\"ternary\":{\"bgcolor\":\"#E5ECF6\",\"aaxis\":{\"gridcolor\":\"white\",\"linecolor\":\"white\",\"ticks\":\"\"},\"baxis\":{\"gridcolor\":\"white\",\"linecolor\":\"white\",\"ticks\":\"\"},\"caxis\":{\"gridcolor\":\"white\",\"linecolor\":\"white\",\"ticks\":\"\"}},\"coloraxis\":{\"colorbar\":{\"outlinewidth\":0,\"ticks\":\"\"}},\"colorscale\":{\"sequential\":[[0.0,\"#0d0887\"],[0.1111111111111111,\"#46039f\"],[0.2222222222222222,\"#7201a8\"],[0.3333333333333333,\"#9c179e\"],[0.4444444444444444,\"#bd3786\"],[0.5555555555555556,\"#d8576b\"],[0.6666666666666666,\"#ed7953\"],[0.7777777777777778,\"#fb9f3a\"],[0.8888888888888888,\"#fdca26\"],[1.0,\"#f0f921\"]],\"sequentialminus\":[[0.0,\"#0d0887\"],[0.1111111111111111,\"#46039f\"],[0.2222222222222222,\"#7201a8\"],[0.3333333333333333,\"#9c179e\"],[0.4444444444444444,\"#bd3786\"],[0.5555555555555556,\"#d8576b\"],[0.6666666666666666,\"#ed7953\"],[0.7777777777777778,\"#fb9f3a\"],[0.8888888888888888,\"#fdca26\"],[1.0,\"#f0f921\"]],\"diverging\":[[0,\"#8e0152\"],[0.1,\"#c51b7d\"],[0.2,\"#de77ae\"],[0.3,\"#f1b6da\"],[0.4,\"#fde0ef\"],[0.5,\"#f7f7f7\"],[0.6,\"#e6f5d0\"],[0.7,\"#b8e186\"],[0.8,\"#7fbc41\"],[0.9,\"#4d9221\"],[1,\"#276419\"]]},\"xaxis\":{\"gridcolor\":\"white\",\"linecolor\":\"white\",\"ticks\":\"\",\"title\":{\"standoff\":15},\"zerolinecolor\":\"white\",\"automargin\":true,\"zerolinewidth\":2},\"yaxis\":{\"gridcolor\":\"white\",\"linecolor\":\"white\",\"ticks\":\"\",\"title\":{\"standoff\":15},\"zerolinecolor\":\"white\",\"automargin\":true,\"zerolinewidth\":2},\"scene\":{\"xaxis\":{\"backgroundcolor\":\"#E5ECF6\",\"gridcolor\":\"white\",\"linecolor\":\"white\",\"showbackground\":true,\"ticks\":\"\",\"zerolinecolor\":\"white\",\"gridwidth\":2},\"yaxis\":{\"backgroundcolor\":\"#E5ECF6\",\"gridcolor\":\"white\",\"linecolor\":\"white\",\"showbackground\":true,\"ticks\":\"\",\"zerolinecolor\":\"white\",\"gridwidth\":2},\"zaxis\":{\"backgroundcolor\":\"#E5ECF6\",\"gridcolor\":\"white\",\"linecolor\":\"white\",\"showbackground\":true,\"ticks\":\"\",\"zerolinecolor\":\"white\",\"gridwidth\":2}},\"shapedefaults\":{\"line\":{\"color\":\"#2a3f5f\"}},\"annotationdefaults\":{\"arrowcolor\":\"#2a3f5f\",\"arrowhead\":0,\"arrowwidth\":1},\"geo\":{\"bgcolor\":\"white\",\"landcolor\":\"#E5ECF6\",\"subunitcolor\":\"white\",\"showland\":true,\"showlakes\":true,\"lakecolor\":\"white\"},\"title\":{\"x\":0.05},\"mapbox\":{\"style\":\"light\"}}},\"scene\":{\"domain\":{\"x\":[0.0,1.0],\"y\":[0.0,1.0]},\"xaxis\":{\"title\":{\"text\":\"X\"}},\"yaxis\":{\"title\":{\"text\":\"Y\"}},\"zaxis\":{\"title\":{\"text\":\"Z\"}}},\"legend\":{\"tracegroupgap\":0},\"title\":{\"text\":\"3D Scatter Plot\"}},                        {\"responsive\": true}                    ).then(function(){\n",
              "                            \n",
              "var gd = document.getElementById('f0fde845-fa60-4f2c-9750-73564535d946');\n",
              "var x = new MutationObserver(function (mutations, observer) {{\n",
              "        var display = window.getComputedStyle(gd).display;\n",
              "        if (!display || display === 'none') {{\n",
              "            console.log([gd, 'removed!']);\n",
              "            Plotly.purge(gd);\n",
              "            observer.disconnect();\n",
              "        }}\n",
              "}});\n",
              "\n",
              "// Listen for the removal of the full notebook cells\n",
              "var notebookContainer = gd.closest('#notebook-container');\n",
              "if (notebookContainer) {{\n",
              "    x.observe(notebookContainer, {childList: true});\n",
              "}}\n",
              "\n",
              "// Listen for the clearing of the current output cell\n",
              "var outputEl = gd.closest('.output');\n",
              "if (outputEl) {{\n",
              "    x.observe(outputEl, {childList: true});\n",
              "}}\n",
              "\n",
              "                        })                };                            </script>        </div>\n",
              "</body>\n",
              "</html>"
            ]
          },
          "metadata": {}
        }
      ],
      "source": [
        "#13) Create a 3D scatter plot using Plotly.\n",
        "\n",
        "\n",
        "import plotly.express as px\n",
        "import pandas as pd\n",
        "\n",
        "data = {\n",
        "    'X': [1, 2, 3, 4, 5],\n",
        "    'Y': [2, 4, 6, 8, 10],\n",
        "    'Z': [3, 6,\n",
        "          9, 12, 15]\n",
        "}\n",
        "\n",
        "df = pd.DataFrame(data)\n",
        "\n",
        "fig = px.scatter_3d(df, x='X', y='Y', z='Z', title='3D Scatter Plot')\n",
        "\n",
        "# Show plot\n",
        "fig.show()"
      ]
    },
    {
      "cell_type": "code",
      "execution_count": null,
      "metadata": {
        "id": "YdK1B-TMAASS"
      },
      "outputs": [],
      "source": []
    }
  ],
  "metadata": {
    "colab": {
      "provenance": []
    },
    "kernelspec": {
      "display_name": "Python 3 (ipykernel)",
      "language": "python",
      "name": "python3"
    },
    "language_info": {
      "codemirror_mode": {
        "name": "ipython",
        "version": 3
      },
      "file_extension": ".py",
      "mimetype": "text/x-python",
      "name": "python",
      "nbconvert_exporter": "python",
      "pygments_lexer": "ipython3",
      "version": "3.12.7"
    }
  },
  "nbformat": 4,
  "nbformat_minor": 0
}